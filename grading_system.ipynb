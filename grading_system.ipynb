{
 "cells": [
  {
   "cell_type": "markdown",
   "metadata": {},
   "source": [
    "# Student grading system and compliment"
   ]
  },
  {
   "cell_type": "markdown",
   "metadata": {},
   "source": [
    "### Grade table\n",
    "|Marks       |Grade |\n",
    "|--------------|----------|\n",
    "|=> 70          |A|\n",
    "|60 - 69          |B|\n",
    "|50 - 59          |C|\n",
    "|45 - 49          |D|\n",
    "|40 - 44          |E|\n",
    "|< 40          |F|"
   ]
  },
  {
   "cell_type": "code",
   "execution_count": 5,
   "metadata": {},
   "outputs": [
    {
     "name": "stdout",
     "output_type": "stream",
     "text": [
      "The student's grade is: A\n",
      "Excellent work! Keep it up!\n"
     ]
    }
   ],
   "source": [
    "def get_grade_with_compliment(marks):\n",
    "    if marks > 70:\n",
    "        return \"A\", \"Excellent work! Keep it up!\"\n",
    "    elif 60 <= marks <= 69:\n",
    "        return \"B\", \"Good job! You can aim even higher!\"\n",
    "    elif 50 <= marks <= 59:\n",
    "        return \"C\", \"Fair effort! Try to improve further.\"\n",
    "    elif 45 <= marks <= 49:\n",
    "        return \"D\", \"You passed, but there's room for improvement.\"\n",
    "    elif 40 <= marks <= 44:\n",
    "        return \"E\", \"Barely passed. Put in more effort next time!\"\n",
    "    else:\n",
    "        return \"F\", \"Failed. Don't give up, work harder!\"\n",
    "\n",
    "while True:\n",
    "    try:\n",
    "        # Prompt the user to enter the student's marks\n",
    "        marks = float(input(\"Enter the student's marks (0-100): \"))\n",
    "        if 0 <= marks <= 100:\n",
    "            grade, compliment = get_grade_with_compliment(marks)\n",
    "            print(f\"The student's grade is: {grade}\")\n",
    "            print(compliment)\n",
    "            break  # Exit the loop after a valid input\n",
    "        else:\n",
    "            print(\"Please enter valid marks between 0 and 100.\")\n",
    "    except ValueError:\n",
    "        print(\"Invalid input! Please enter a numeric value.\")"
   ]
  }
 ],
 "metadata": {
  "kernelspec": {
   "display_name": "Python 3",
   "language": "python",
   "name": "python3"
  },
  "language_info": {
   "codemirror_mode": {
    "name": "ipython",
    "version": 3
   },
   "file_extension": ".py",
   "mimetype": "text/x-python",
   "name": "python",
   "nbconvert_exporter": "python",
   "pygments_lexer": "ipython3",
   "version": "3.13.0"
  }
 },
 "nbformat": 4,
 "nbformat_minor": 2
}
